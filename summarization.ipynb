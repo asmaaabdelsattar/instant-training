{
  "cells": [
    {
      "cell_type": "markdown",
      "metadata": {
        "id": "view-in-github",
        "colab_type": "text"
      },
      "source": [
        "<a href=\"https://colab.research.google.com/github/asmaaabdelsattar/instant-training/blob/main/summarization.ipynb\" target=\"_parent\"><img src=\"https://colab.research.google.com/assets/colab-badge.svg\" alt=\"Open In Colab\"/></a>"
      ]
    },
    {
      "cell_type": "code",
      "execution_count": null,
      "metadata": {
        "id": "8r9XcUlmX6tc"
      },
      "outputs": [],
      "source": [
        "!pip install transformers datasets torch --quiet"
      ]
    },
    {
      "cell_type": "code",
      "execution_count": null,
      "metadata": {
        "colab": {
          "base_uri": "https://localhost:8080/",
          "height": 560,
          "referenced_widgets": [
            "b2b538953aa94e8099713dd46e45db67",
            "fefe916bb70d4c1eb34ed57292514b6d",
            "b741ea5a02bc402b9bbfd3f61d04bc79",
            "e27fce5dd7a24561a701d5b171a36cbb",
            "5aa6af012646403c98e2230d88c52447",
            "1f903716895f4e4fb796b54b87eba2e5",
            "07af3b04dcbd41bfadd4beecbdb72c3a",
            "8b39e596ca2d4d138ad390e093c8314b",
            "d9bc2a6508b849169a3320eff159fda2",
            "7c20fbd7a50b4a54babef765a2cb2f0b",
            "4e72bacf649a4cee8862b28b52cce9c1",
            "e37748b028e340c29bb8b124fdbd9de6",
            "b8d7148efcaf49a0930bacaccfb6e416",
            "d45e46add6f240ba9c93cc2052758574",
            "1de3fbd8d8684546aae7829b4e9f652c",
            "d4ba54e308eb472ca6d5f0de7128ce40",
            "620c3e73d3964861838293e34b2c4f82",
            "0d932565560945dc9e80c21a1b43ce0a",
            "231ab94a52e8437c87f9972297659fb5",
            "511493f3f0584b4c8073311aa967eb38",
            "1cf09e8742f747df890a455209e021ad",
            "75038a83d5074ccf9ba0536b3e4b52a8",
            "a0ba8b0667b44ae79cfc538c6263bbd8",
            "fc44743095c541c8a1ae65ffc8e74a10",
            "a3a8605ef26a474ea1ef5939064859b0",
            "986cb4b4fa94446daf9eb68bbcc8e5dc",
            "88f136c834924c74a55c9662ecafe8d8",
            "2759f6a77d78457dbe2ca342351e50ec",
            "30fdba1de3af4eb497b463abc7383e49",
            "50f234b48dbe43679305b08d347ceaf7",
            "2b9987869ddc4d15a8f18f165acc01e2",
            "fdf1787ae25f441ab53817821bbcc507",
            "b1ffcd629be0450e9f2cdf1fa7b76e15",
            "86c7d6205481423a8f85a38b5d7e922a",
            "e5d9919b539d4f9996bee70708e09e49",
            "185d7a7809194b3bac2d42d793662c46",
            "7cb9285076f7458b86ae5cc036cec8e2",
            "453e022ac6f2477f98250d5857ff088f",
            "c2b990addef14fcc9b2886b6c7b5fc2f",
            "f943fdde12a947c4a889dc0550646681",
            "49470108ea44413c9fe3492d114381fb",
            "e3bca244c4934c2b8d13690146de1d80",
            "8e54c8a0314b4f449daf803211c50d0c",
            "c5baff46e3b54ad480752bc2dbe53680",
            "71313475d810460fb7a25b589fce500b",
            "ad281c40c3fa4038808acf8107646ae3",
            "f627f660d995444b875eefda33053db4",
            "73da749f3a624a8484058df2e6141f2f",
            "f9ef9cc7c3ab47e8b489b5ef121943d8",
            "8e7b7ee5b31f434eb959b3b23325cf63",
            "aef2db3521c24a8da072a75a37050921",
            "f992d927d0034f6a96602295fdc70d00",
            "78ebaafa4e764826abb80aa095143c3d",
            "204f02ae10e343dc91651aac8290ca39",
            "1a3814e8a98b46358e86c45d1297c758",
            "563846b88aad44da8b2a04a368fd7986",
            "995ee8aed9a24bbca08ac208e3d1af63",
            "6f6488d661a64a4586b782d2524756d7",
            "fd7ad734fca2496b83ee16708e4564a5",
            "c6c44ee213d9485d83fb6d3866c68d3c",
            "2cdc5b09050b4693bd20183777ddf21d",
            "0562293cd1094716abe79c02891ed332",
            "418c6d59442c47e7a5318dd2fd065e12",
            "39210e0ce49d41f092924eb4a3004cec",
            "51f8ac4a77f24be2acec89616eafec02",
            "c38a21868ca94e64b973013d5683320b",
            "7acd90d98d6143ec91ffed8257f84349",
            "490c7d5d91374b86aedd76c752b2097c",
            "2084c3f8d67749c0809df1e087f3da49",
            "89f3a892bfab40eb84adca5e64f71929",
            "d149fd44905d483d8acb81a0ea74e9d8",
            "9ea3584964bf4d58ad98c5841d5d3094",
            "450a254e968040dc9b8af16e3596fa62",
            "257da472c4b841e7886166b434d94c29",
            "3cf48b1c31fd41948c74975eaba75c3a",
            "83c093c8ac5e44b6ae859a734dac6bd5",
            "1e037b322c5f4e0391cba2ae315f7136",
            "ae300148fe0147cd8b2414d544e21048",
            "2109cd50dfed48bcb926da0e41211fe2",
            "03634b01b8e94f7793ed77ca577e2467",
            "6940e110c6354ef69dc1917c430530a8",
            "a27c8571bce34b7cb4d62bb0dd2b2528",
            "1d4809a1b83a448189a59e2503856993",
            "13f68cdb7ca84fad9cdb22d3f7c8e4de",
            "98213d391b7d43aea5ba798d553823bd",
            "3d5ceb170bfd4e3ba941346c439b95fe",
            "bdf07e357a6f4fc68fbb4936f80a0d9c",
            "63f8d65d49a942be8f403e011d079137",
            "0f56fb225f8549c284d684df14cc6f32",
            "b604454d6a7a40348550caf97cace8b7",
            "14f6e6ee2c8f42f9a314e4115a0f2ccf",
            "be74b89eb0fe4b249df2d416775a43c0",
            "0bfde5303ea747869eb27c9b58269346",
            "2631754c09f74cf68c9c02180f0bbfff",
            "0e79e88d09df4fbabbc2bd101cf9c62d",
            "ea014b42b03f4142b954c66c4589f1b6",
            "fa15beeda7584114838b1bb94e446a8c",
            "0dce4c120cd94002886669ac617831f0",
            "e8504e50a1d1448d8ab2efbd7f06152b",
            "a54f86015653462a8407a3edccf5aecd",
            "f49a6554f75e41c0ad56dd586beaa7a2",
            "1d9e5b2ca3c64e759488d5c3e36f45e0",
            "5fe3db2ab94b4a9ba23d5e672579a367",
            "747f269a56a2400f900e6e91adb95c5a",
            "14dc71dfc3544e00972deb565dff6440",
            "837726c6defc40e486c7b5f588e2ee7e",
            "346a664b09e64405920042f21f8f9b15",
            "614b23d2a72547799214a5759fd79dda",
            "4d225744134f4d79a8d0332bce239134",
            "eba4d62967f3463893a18b52986777c6",
            "7b6c6cf906ad42618808efb260eef008",
            "b265ad0e52624380b5d9552153af4ffd",
            "37f58d2c01204311bfb6c12d86adaca8",
            "315ee008436c46c38af3e71891ada1e6",
            "a758e8ec01a84a99a564c0e5eed42a03",
            "655abc22c3c84ff683968eca050eb888",
            "61475c41e02146a0a4aae926016bcf9a",
            "aeb677c14b3f460f9cc7a3ed41426e41",
            "ca61ed7530cd430881b8072076c2823a",
            "0932e6f4d72945a5bf6a8ce0d7e7e37b",
            "1a9a4c0fd9a54710895609b0818ebc28",
            "e98edfec9a4844d287782c73371de967",
            "7bad42c9fb104343846d3a330129f112",
            "642f074fb4b147d79a37e4100ff58cc1",
            "beec7865dba1483fb33db724ece4f0fa",
            "5c3c8ae4549f443aaf14f0d22debea4a",
            "0e312824288e4c86b4457201e780afa0",
            "b878a211ba95498180d9b2065c1b547d",
            "bd78fcd06337447594cfe0853eb1ccb7",
            "2e602b9d4aa24a0688031a1363014373",
            "da70816b0d2046c1aa6d2dd4b0e0eff7",
            "d819bbee64924f539b15b9b6ed933f25"
          ]
        },
        "id": "pHmuE7kKZAP1",
        "outputId": "b77f5f39-3d39-47ca-c427-f7405dd5caf6"
      },
      "outputs": [
        {
          "name": "stderr",
          "output_type": "stream",
          "text": [
            "/usr/local/lib/python3.12/dist-packages/huggingface_hub/utils/_auth.py:94: UserWarning: \n",
            "The secret `HF_TOKEN` does not exist in your Colab secrets.\n",
            "To authenticate with the Hugging Face Hub, create a token in your settings tab (https://huggingface.co/settings/tokens), set it as secret in your Google Colab and restart your session.\n",
            "You will be able to reuse this secret in all of your notebooks.\n",
            "Please note that authentication is recommended but still optional to access public models or datasets.\n",
            "  warnings.warn(\n"
          ]
        },
        {
          "data": {
            "application/vnd.jupyter.widget-view+json": {
              "model_id": "b2b538953aa94e8099713dd46e45db67",
              "version_major": 2,
              "version_minor": 0
            },
            "text/plain": [
              "config.json: 0.00B [00:00, ?B/s]"
            ]
          },
          "metadata": {},
          "output_type": "display_data"
        },
        {
          "data": {
            "application/vnd.jupyter.widget-view+json": {
              "model_id": "e37748b028e340c29bb8b124fdbd9de6",
              "version_major": 2,
              "version_minor": 0
            },
            "text/plain": [
              "model.safetensors:   0%|          | 0.00/1.63G [00:00<?, ?B/s]"
            ]
          },
          "metadata": {},
          "output_type": "display_data"
        },
        {
          "data": {
            "application/vnd.jupyter.widget-view+json": {
              "model_id": "a0ba8b0667b44ae79cfc538c6263bbd8",
              "version_major": 2,
              "version_minor": 0
            },
            "text/plain": [
              "generation_config.json:   0%|          | 0.00/363 [00:00<?, ?B/s]"
            ]
          },
          "metadata": {},
          "output_type": "display_data"
        },
        {
          "data": {
            "application/vnd.jupyter.widget-view+json": {
              "model_id": "86c7d6205481423a8f85a38b5d7e922a",
              "version_major": 2,
              "version_minor": 0
            },
            "text/plain": [
              "vocab.json: 0.00B [00:00, ?B/s]"
            ]
          },
          "metadata": {},
          "output_type": "display_data"
        },
        {
          "data": {
            "application/vnd.jupyter.widget-view+json": {
              "model_id": "71313475d810460fb7a25b589fce500b",
              "version_major": 2,
              "version_minor": 0
            },
            "text/plain": [
              "merges.txt: 0.00B [00:00, ?B/s]"
            ]
          },
          "metadata": {},
          "output_type": "display_data"
        },
        {
          "data": {
            "application/vnd.jupyter.widget-view+json": {
              "model_id": "563846b88aad44da8b2a04a368fd7986",
              "version_major": 2,
              "version_minor": 0
            },
            "text/plain": [
              "tokenizer.json: 0.00B [00:00, ?B/s]"
            ]
          },
          "metadata": {},
          "output_type": "display_data"
        },
        {
          "name": "stderr",
          "output_type": "stream",
          "text": [
            "Device set to use cpu\n"
          ]
        },
        {
          "data": {
            "application/vnd.jupyter.widget-view+json": {
              "model_id": "7acd90d98d6143ec91ffed8257f84349",
              "version_major": 2,
              "version_minor": 0
            },
            "text/plain": [
              "config.json:   0%|          | 0.00/571 [00:00<?, ?B/s]"
            ]
          },
          "metadata": {},
          "output_type": "display_data"
        },
        {
          "data": {
            "application/vnd.jupyter.widget-view+json": {
              "model_id": "ae300148fe0147cd8b2414d544e21048",
              "version_major": 2,
              "version_minor": 0
            },
            "text/plain": [
              "model.safetensors:   0%|          | 0.00/496M [00:00<?, ?B/s]"
            ]
          },
          "metadata": {},
          "output_type": "display_data"
        },
        {
          "data": {
            "application/vnd.jupyter.widget-view+json": {
              "model_id": "0f56fb225f8549c284d684df14cc6f32",
              "version_major": 2,
              "version_minor": 0
            },
            "text/plain": [
              "tokenizer_config.json:   0%|          | 0.00/79.0 [00:00<?, ?B/s]"
            ]
          },
          "metadata": {},
          "output_type": "display_data"
        },
        {
          "data": {
            "application/vnd.jupyter.widget-view+json": {
              "model_id": "a54f86015653462a8407a3edccf5aecd",
              "version_major": 2,
              "version_minor": 0
            },
            "text/plain": [
              "vocab.json: 0.00B [00:00, ?B/s]"
            ]
          },
          "metadata": {},
          "output_type": "display_data"
        },
        {
          "data": {
            "application/vnd.jupyter.widget-view+json": {
              "model_id": "7b6c6cf906ad42618808efb260eef008",
              "version_major": 2,
              "version_minor": 0
            },
            "text/plain": [
              "merges.txt: 0.00B [00:00, ?B/s]"
            ]
          },
          "metadata": {},
          "output_type": "display_data"
        },
        {
          "data": {
            "application/vnd.jupyter.widget-view+json": {
              "model_id": "e98edfec9a4844d287782c73371de967",
              "version_major": 2,
              "version_minor": 0
            },
            "text/plain": [
              "special_tokens_map.json:   0%|          | 0.00/772 [00:00<?, ?B/s]"
            ]
          },
          "metadata": {},
          "output_type": "display_data"
        },
        {
          "name": "stderr",
          "output_type": "stream",
          "text": [
            "Device set to use cpu\n"
          ]
        }
      ],
      "source": [
        "from transformers import pipeline\n",
        "\n",
        "# Load summarization model (BART)\n",
        "summarizer = pipeline(\"summarization\", model=\"facebook/bart-large-cnn\")\n",
        "\n",
        "# Load question answering model (RoBERTa fine-tuned on SQuAD)\n",
        "qa_model = pipeline(\"question-answering\", model=\"deepset/roberta-base-squad2\")\n"
      ]
    },
    {
      "cell_type": "code",
      "execution_count": null,
      "metadata": {
        "colab": {
          "base_uri": "https://localhost:8080/"
        },
        "id": "_wvKLbBRZvBe",
        "outputId": "5646cb5f-39a1-434c-b079-56a1fc21dd60"
      },
      "outputs": [
        {
          "name": "stderr",
          "output_type": "stream",
          "text": [
            "Your max_length is set to 80, but your input_length is only 75. Since this is a summarization task, where outputs shorter than the input are typically wanted, you might consider decreasing max_length manually, e.g. summarizer('...', max_length=37)\n"
          ]
        },
        {
          "name": "stdout",
          "output_type": "stream",
          "text": [
            "Summary:\n",
            "Artificial intelligence is rapidly transforming various sectors, including healthcare, finance, and transportation. Despite its benefits, AI also raises concernsregarding ethics, bias, and job displacement.\n"
          ]
        }
      ],
      "source": [
        "text = \"\"\"\n",
        "Artificial intelligence (AI) is rapidly transforming various sectors, including healthcare, finance, and transportation.\n",
        "AI systems are capable of performing tasks that typically require human intelligence, such as visual perception,\n",
        "speech recognition, decision-making, and language translation. Despite its benefits, AI also raises concerns\n",
        "regarding ethics, bias, and job displacement.\n",
        "\"\"\"\n",
        "\n",
        "summary = summarizer(text, max_length=80, min_length=25, do_sample=False)[0]['summary_text']\n",
        "\n",
        "print(\"Summary:\")\n",
        "print(summary)\n"
      ]
    },
    {
      "cell_type": "code",
      "execution_count": null,
      "metadata": {
        "colab": {
          "base_uri": "https://localhost:8080/"
        },
        "id": "GF4lYOuEZ3XC",
        "outputId": "bedac19c-3e63-45d4-8bd6-53953f8e6605"
      },
      "outputs": [
        {
          "name": "stdout",
          "output_type": "stream",
          "text": [
            "\n",
            " Question: What are some concerns about AI?\n",
            "Answer: ethics, bias, and job displacement\n"
          ]
        }
      ],
      "source": [
        "question = \"What are some concerns about AI?\"\n",
        "\n",
        "answer = qa_model(question=question, context=text)\n",
        "\n",
        "print(\"\\n Question:\", question)\n",
        "print(\"Answer:\", answer['answer'])\n"
      ]
    },
    {
      "cell_type": "code",
      "execution_count": null,
      "metadata": {
        "id": "XDuxdKWLaF7O"
      },
      "outputs": [],
      "source": [
        "def summarize_and_answer(text, question):\n",
        "    summary = summarizer(text, max_length=120, min_length=40, do_sample=False)[0]['summary_text']\n",
        "    answer = qa_model(question=question, context=text)['answer']\n",
        "\n",
        "    print(\"Summary:\\n\", summary)\n",
        "    print(\"\\n Question:\", question)\n",
        "    print(\"Answer:\", answer)\n"
      ]
    },
    {
      "cell_type": "code",
      "execution_count": null,
      "metadata": {
        "colab": {
          "base_uri": "https://localhost:8080/"
        },
        "id": "NhZ2jZxXaPVc",
        "outputId": "533958a2-734d-42ad-a163-b6d6c9a0182f"
      },
      "outputs": [
        {
          "name": "stderr",
          "output_type": "stream",
          "text": [
            "Your max_length is set to 120, but your input_length is only 75. Since this is a summarization task, where outputs shorter than the input are typically wanted, you might consider decreasing max_length manually, e.g. summarizer('...', max_length=37)\n"
          ]
        },
        {
          "name": "stdout",
          "output_type": "stream",
          "text": [
            "Summary:\n",
            " Artificial intelligence (AI) is rapidly transforming various sectors, including healthcare, finance, and transportation. Despite its benefits, AI also raises concernsregarding ethics, bias, and job displacement.\n",
            "\n",
            " Question: How is AI transforming industries?\n",
            "Answer: rapidly\n"
          ]
        }
      ],
      "source": [
        "summarize_and_answer(text, \"How is AI transforming industries?\")"
      ]
    },
    {
      "cell_type": "code",
      "execution_count": null,
      "metadata": {
        "colab": {
          "base_uri": "https://localhost:8080/"
        },
        "id": "aCDZCKIwk6fy",
        "outputId": "b8c89d8c-f2da-4060-8ac1-09e3a2f91804"
      },
      "outputs": [
        {
          "name": "stdout",
          "output_type": "stream",
          "text": [
            "Mounted at /content/drive\n"
          ]
        }
      ],
      "source": [
        "from google.colab import drive\n",
        "drive.mount('/content/drive')"
      ]
    }
  ],
  "metadata": {
    "colab": {
      "provenance": [],
      "authorship_tag": "ABX9TyOg8qoM+l0dEKQBm7A3f389",
      "include_colab_link": true
    },
    "kernelspec": {
      "display_name": "Python 3",
      "name": "python3"
    },
    "language_info": {
      "name": "python"
    }
  },
  "nbformat": 4,
  "nbformat_minor": 0
}